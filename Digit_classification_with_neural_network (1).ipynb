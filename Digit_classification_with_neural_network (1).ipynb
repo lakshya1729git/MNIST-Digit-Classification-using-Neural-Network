{
  "nbformat": 4,
  "nbformat_minor": 0,
  "metadata": {
    "colab": {
      "provenance": []
    },
    "kernelspec": {
      "name": "python3",
      "display_name": "Python 3"
    },
    "language_info": {
      "name": "python"
    }
  },
  "cells": [
    {
      "cell_type": "markdown",
      "source": [
        "MNIST Handwrittenn Digit classification using deep learning(Neural Network)"
      ],
      "metadata": {
        "id": "8e-ppZZXDRIw"
      }
    },
    {
      "cell_type": "code",
      "execution_count": null,
      "metadata": {
        "id": "7bAU2OJX2TWb"
      },
      "outputs": [],
      "source": [
        "import numpy as np\n",
        "import matplotlib.pyplot as plt\n",
        "import seaborn as sns\n",
        "import cv2\n",
        "from google.colab.patches import cv2_imshow\n",
        "from PIL import Image\n",
        "import tensorflow as tf\n",
        "tf.random.set_seed(3)\n",
        "from tensorflow import keras\n",
        "from keras.datasets import mnist\n",
        "from tensorflow.math import confusion_matrix\n",
        "\n",
        "\n"
      ]
    },
    {
      "cell_type": "markdown",
      "source": [
        "Loading the MNIST data from keras.dataset"
      ],
      "metadata": {
        "id": "M-R7dV4eFFLf"
      }
    },
    {
      "cell_type": "code",
      "source": [
        "(x_train,y_train),(x_test,y_test) = mnist.load_data()"
      ],
      "metadata": {
        "colab": {
          "base_uri": "https://localhost:8080/"
        },
        "id": "vOzRgjdhFOlF",
        "outputId": "5de30e0c-c65d-456f-e364-beaa0820fc45"
      },
      "execution_count": null,
      "outputs": [
        {
          "output_type": "stream",
          "name": "stdout",
          "text": [
            "Downloading data from https://storage.googleapis.com/tensorflow/tf-keras-datasets/mnist.npz\n",
            "\u001b[1m11490434/11490434\u001b[0m \u001b[32m━━━━━━━━━━━━━━━━━━━━\u001b[0m\u001b[37m\u001b[0m \u001b[1m0s\u001b[0m 0us/step\n"
          ]
        }
      ]
    },
    {
      "cell_type": "code",
      "source": [
        "type(x_train)"
      ],
      "metadata": {
        "colab": {
          "base_uri": "https://localhost:8080/"
        },
        "id": "NLKJqnluIhQe",
        "outputId": "d5afc429-9e5b-4eba-d53c-a76429d48b2f"
      },
      "execution_count": null,
      "outputs": [
        {
          "output_type": "execute_result",
          "data": {
            "text/plain": [
              "numpy.ndarray"
            ]
          },
          "metadata": {},
          "execution_count": 4
        }
      ]
    },
    {
      "cell_type": "code",
      "source": [
        " #shape of the numpy arrays\n",
        " print(x_train.shape,y_train.shape,x_test.shape,y_test.shape)\n"
      ],
      "metadata": {
        "colab": {
          "base_uri": "https://localhost:8080/"
        },
        "id": "pJvKC-E5IlP-",
        "outputId": "ec0c489c-5449-4587-f175-56e91d1ff06c"
      },
      "execution_count": null,
      "outputs": [
        {
          "output_type": "stream",
          "name": "stdout",
          "text": [
            "(60000, 28, 28) (60000,) (10000, 28, 28) (10000,)\n"
          ]
        }
      ]
    },
    {
      "cell_type": "markdown",
      "source": [
        "Training data = 60,000\n",
        "\n",
        "Test Data = 10,000"
      ],
      "metadata": {
        "id": "c0AlvzMkKz8J"
      }
    },
    {
      "cell_type": "markdown",
      "source": [
        "Image Dimensions = 28 x 28\n",
        "\n",
        "Grayscale Image --> 1 Channel\n"
      ],
      "metadata": {
        "id": "kCis7OqGLTQS"
      }
    },
    {
      "cell_type": "code",
      "source": [
        "# Printing the 10th image\n",
        "\n",
        "print(x_train[10])"
      ],
      "metadata": {
        "id": "kgsYKKxRKvzj"
      },
      "execution_count": 2,
      "outputs": []
    },
    {
      "cell_type": "code",
      "source": [
        "# Checking the shape\n",
        "print(x_train[10].shape)"
      ],
      "metadata": {
        "id": "Bx9ilpUKMk_V"
      },
      "execution_count": 4,
      "outputs": []
    },
    {
      "cell_type": "code",
      "source": [
        "# displaying the image\n",
        "plt.imshow(x_train[50])\n",
        "plt.show()\n",
        "\n",
        "#Printing corresponding label of the image\n",
        "print(y_train[50])"
      ],
      "metadata": {
        "id": "jR_eDpyJM5-v"
      },
      "execution_count": 5,
      "outputs": []
    },
    {
      "cell_type": "markdown",
      "source": [
        "Image Labels"
      ],
      "metadata": {
        "id": "IWmgXxh7OZBC"
      }
    },
    {
      "cell_type": "code",
      "source": [
        "print(y_train.shape,y_test.shape)"
      ],
      "metadata": {
        "id": "Lsy507XwObDw"
      },
      "execution_count": 6,
      "outputs": []
    },
    {
      "cell_type": "code",
      "source": [
        "# Unique values in y_train\n",
        "print(np.unique(y_train))\n",
        "\n",
        "# Unique values in y_train\n",
        "print(np.unique(y_test))"
      ],
      "metadata": {
        "id": "8la030TdO_Ty"
      },
      "execution_count": 7,
      "outputs": []
    },
    {
      "cell_type": "markdown",
      "source": [
        "All the images have same dimensions in this dataset ,if not then we have to resize the images to the common dimensions\n"
      ],
      "metadata": {
        "id": "9vdoJOOnQq-Q"
      }
    },
    {
      "cell_type": "code",
      "source": [
        " # Scaling the values\n",
        "\n",
        " x_train = x_train/255\n",
        " x_test = x_test/255\n",
        "\n"
      ],
      "metadata": {
        "id": "w73oblujQDvb"
      },
      "execution_count": 8,
      "outputs": []
    },
    {
      "cell_type": "code",
      "source": [
        "# Minimum Value will be --> 0\n",
        "# And the Maximum value will be --> 1\n",
        "# Lets print the 10th value again\n",
        "\n",
        "print(x_train[10])\n"
      ],
      "metadata": {
        "id": "ZFdBKdHLT2TH"
      },
      "execution_count": 9,
      "outputs": []
    },
    {
      "cell_type": "markdown",
      "source": [
        "Above we converted the values in between 0 and 1"
      ],
      "metadata": {
        "id": "1tPXkgslVVVq"
      }
    },
    {
      "cell_type": "markdown",
      "source": [
        "Now , Building the Neural Network"
      ],
      "metadata": {
        "id": "w3MRwPEdVc_b"
      }
    },
    {
      "cell_type": "code",
      "source": [
        "# Setting up the layers of the Neural Network\n",
        "\n",
        "model = keras.Sequential([\n",
        "    keras.layers.Flatten(input_shape=(28,28)),\n",
        "    keras.layers.Dense(50,activation='relu'),\n",
        "    keras.layers.Dense(50,activation='relu'),\n",
        "    keras.layers.Dense(10,activation='sigmoid')\n",
        "\n",
        "])"
      ],
      "metadata": {
        "id": "HucMn6rxWDCv"
      },
      "execution_count": 10,
      "outputs": []
    },
    {
      "cell_type": "code",
      "source": [
        "# Compiling the Neural Network\n",
        "model.compile(optimizer='adam',\n",
        "              loss = 'sparse_categorical_crossentropy',\n",
        "              metrics =['accuracy'])\n"
      ],
      "metadata": {
        "id": "7tHqdw9NbiV1"
      },
      "execution_count": 11,
      "outputs": []
    },
    {
      "cell_type": "code",
      "source": [
        "# Training the Neural Network\n",
        "\n",
        "model.fit(x_train,y_train,epochs=10)"
      ],
      "metadata": {
        "id": "l7r5I0Kler02"
      },
      "execution_count": 12,
      "outputs": []
    },
    {
      "cell_type": "markdown",
      "source": [
        "  Training Data accuracy = 98.91%"
      ],
      "metadata": {
        "id": "9jFh2YAAm0oe"
      }
    },
    {
      "cell_type": "markdown",
      "source": [
        "Now , we are going to check the Accuracy on test data"
      ],
      "metadata": {
        "id": "zsijNJ-rnirw"
      }
    },
    {
      "cell_type": "code",
      "source": [
        "loss,accuracy = model.evaluate(x_test,y_test)\n",
        "print(accuracy)"
      ],
      "metadata": {
        "id": "Zbk5026FmG-8"
      },
      "execution_count": 13,
      "outputs": []
    },
    {
      "cell_type": "markdown",
      "source": [
        "Total data accuracy = 97.21% (Test data), It also signifies that the model has not overfitted."
      ],
      "metadata": {
        "id": "lDxe_nBlpRcK"
      }
    },
    {
      "cell_type": "code",
      "source": [
        "print(x_test.shape)"
      ],
      "metadata": {
        "id": "RL3m2bbjpfZR"
      },
      "execution_count": 14,
      "outputs": []
    },
    {
      "cell_type": "code",
      "source": [
        "# First Data point in x_test\n",
        "plt.imshow(x_test[0])\n",
        "plt.show()"
      ],
      "metadata": {
        "id": "Ye7GGG5_pm1m"
      },
      "execution_count": 15,
      "outputs": []
    },
    {
      "cell_type": "code",
      "source": [
        "print(y_test[0])"
      ],
      "metadata": {
        "id": "zp3pq1RKp8A_"
      },
      "execution_count": 16,
      "outputs": []
    },
    {
      "cell_type": "code",
      "source": [
        "y_pred = model.predict(x_test)"
      ],
      "metadata": {
        "id": "WK5bp2NkrD8N"
      },
      "execution_count": 18,
      "outputs": []
    },
    {
      "cell_type": "code",
      "source": [
        "print(y_pred.shape)"
      ],
      "metadata": {
        "id": "O1qGsm57rrbt"
      },
      "execution_count": 19,
      "outputs": []
    },
    {
      "cell_type": "code",
      "source": [
        "print(y_pred[0])"
      ],
      "metadata": {
        "id": "_AW3r8MXrwDH"
      },
      "execution_count": 20,
      "outputs": []
    },
    {
      "cell_type": "markdown",
      "source": [
        "Model.predict gives prediction probablity of each class (in this case 0-9) for that data point"
      ],
      "metadata": {
        "id": "z2lVjnXGs5Cv"
      }
    },
    {
      "cell_type": "code",
      "source": [
        " # converting the prediction probablities to class label\n",
        " label_for_first_test_image = np.argmax(y_pred[0])\n",
        " print(label_for_first_test_image)"
      ],
      "metadata": {
        "id": "0T4HDzEisF0Z"
      },
      "execution_count": 21,
      "outputs": []
    },
    {
      "cell_type": "code",
      "source": [
        "# Converting the predction probablities to class label for all test data points\n",
        "y_pred_labels = [np.argmax(i).item() for i in y_pred]\n",
        "print(y_pred_labels)"
      ],
      "metadata": {
        "id": "drauq42Ju5X7"
      },
      "execution_count": 22,
      "outputs": []
    },
    {
      "cell_type": "markdown",
      "source": [
        "y_test --> true labels\n",
        "\n",
        "y_pred_labels --> predicted labels (the values predicted by Neural Network)"
      ],
      "metadata": {
        "id": "ZEY90d7axNBM"
      }
    },
    {
      "cell_type": "markdown",
      "source": [
        "Confusion Matrix\n"
      ],
      "metadata": {
        "id": "2UcMrkWIyQTt"
      }
    },
    {
      "cell_type": "code",
      "source": [
        "# We have imported confusion matrix from tensorflow.math\n",
        "conf_mat = confusion_matrix(y_test,y_pred_labels)"
      ],
      "metadata": {
        "id": "sZ6JU7TDw2eK"
      },
      "execution_count": 23,
      "outputs": []
    },
    {
      "cell_type": "code",
      "source": [
        "print(conf_mat)"
      ],
      "metadata": {
        "id": "errYQJuTxGhC"
      },
      "execution_count": 24,
      "outputs": []
    },
    {
      "cell_type": "code",
      "source": [
        "# Building the Heap map using Matplotlib and seaborn libraries\n",
        "\n",
        "plt.figure(figsize =(15,7))\n",
        "sns.heatmap(conf_mat,annot=True,fmt='d',cmap = 'Blues')\n",
        "plt.ylabel('Actual Labels')\n",
        "plt.xlabel('predicted labels')\n"
      ],
      "metadata": {
        "id": "TVw7nBL_0aSN"
      },
      "execution_count": 25,
      "outputs": []
    },
    {
      "cell_type": "markdown",
      "source": [
        "Building the Predictive System\n"
      ],
      "metadata": {
        "id": "ieCCI2cG3kG8"
      }
    },
    {
      "cell_type": "code",
      "source": [
        "input_image_path = '/content/e6513aafe90f7e4ca59ea8ec08a1bf5e0f70cbb9.png'\n",
        "# First we have to convert it in numpy array\n",
        "\n",
        "# Also WE have to first make the dimensions equal to that of our model would understand\n",
        "# Which we have used in the model training\n",
        "\n",
        "input_image = cv2.imread(input_image_path)"
      ],
      "metadata": {
        "id": "HOtQtuva3qQy"
      },
      "execution_count": 26,
      "outputs": []
    },
    {
      "cell_type": "code",
      "source": [
        "type(input_image)"
      ],
      "metadata": {
        "id": "uWqD8Ebw44q6"
      },
      "execution_count": 27,
      "outputs": []
    },
    {
      "cell_type": "code",
      "source": [
        "print(input_image)"
      ],
      "metadata": {
        "id": "CxbtBWy849OA"
      },
      "execution_count": 28,
      "outputs": []
    },
    {
      "cell_type": "code",
      "source": [
        "cv2_imshow(input_image)"
      ],
      "metadata": {
        "id": "gTRMJfr65qx3"
      },
      "execution_count": 29,
      "outputs": []
    },
    {
      "cell_type": "code",
      "source": [
        "input_image.shape"
      ],
      "metadata": {
        "id": "QbZLnprx5wf8"
      },
      "execution_count": 30,
      "outputs": []
    },
    {
      "cell_type": "code",
      "source": [
        "grayscale = cv2.cvtColor(input_image,cv2.COLOR_RGB2GRAY)"
      ],
      "metadata": {
        "id": "Pzt8rc7r6NRk"
      },
      "execution_count": 31,
      "outputs": []
    },
    {
      "cell_type": "code",
      "source": [
        "grayscale.shape\n"
      ],
      "metadata": {
        "id": "lF-GEP6D61HZ"
      },
      "execution_count": 32,
      "outputs": []
    },
    {
      "cell_type": "code",
      "source": [
        "input_image_resize = cv2.resize(grayscale,(28,28))"
      ],
      "metadata": {
        "id": "zc1_bd8a69fy"
      },
      "execution_count": 33,
      "outputs": []
    },
    {
      "cell_type": "code",
      "source": [
        "input_image_resize.shape"
      ],
      "metadata": {
        "id": "meLNWgip7SH4"
      },
      "execution_count": 34,
      "outputs": []
    },
    {
      "cell_type": "code",
      "source": [
        "cv2_imshow(input_image_resize)"
      ],
      "metadata": {
        "id": "2QZ0d9fT7tpj"
      },
      "execution_count": 35,
      "outputs": []
    },
    {
      "cell_type": "code",
      "source": [
        "# Then we have to normalize here also , like whatever did for the trainig data\n",
        "\n",
        "input_image_resize = input_image_resize/255"
      ],
      "metadata": {
        "id": "NNrKsP2o7wnE"
      },
      "execution_count": 36,
      "outputs": []
    },
    {
      "cell_type": "code",
      "source": [
        "image_reshaped = np.reshape(input_image_resize,[1,28,28])"
      ],
      "metadata": {
        "id": "ny1uQfL28bUB"
      },
      "execution_count": 38,
      "outputs": []
    },
    {
      "cell_type": "code",
      "source": [
        "type(input_image_resize)"
      ],
      "metadata": {
        "id": "y8TKvmAE8_g5"
      },
      "execution_count": 39,
      "outputs": []
    },
    {
      "cell_type": "code",
      "source": [
        "image_reshaped =np.reshape(input_image_resize,[1,28,28])"
      ],
      "metadata": {
        "id": "lbmIna3q9FeR"
      },
      "execution_count": 40,
      "outputs": []
    },
    {
      "cell_type": "code",
      "source": [
        "input_prediction = model.predict(image_reshaped)\n",
        "print(input_prediction)"
      ],
      "metadata": {
        "id": "W2dUM5DS924E"
      },
      "execution_count": 41,
      "outputs": []
    },
    {
      "cell_type": "code",
      "source": [
        "input_pred_label = np.argmax(input_prediction)"
      ],
      "metadata": {
        "id": "b7iq8u97-Cb1"
      },
      "execution_count": 42,
      "outputs": []
    },
    {
      "cell_type": "code",
      "source": [
        "print(input_pred_label)"
      ],
      "metadata": {
        "id": "lHu2fBul-Jwb"
      },
      "execution_count": 43,
      "outputs": []
    },
    {
      "cell_type": "markdown",
      "source": [
        "*Predictive System*\n",
        "\n",
        "now taking the input from the user"
      ],
      "metadata": {
        "id": "yr7ID0Ec-k7m"
      }
    },
    {
      "cell_type": "code",
      "source": [
        "input_image_path = input('Path of the image to be predicted: ')\n",
        "\n",
        "input_image = cv2.imread(input_image_path)\n",
        "# Now lets show the image also\n",
        "# and convert into grayscale , resizing ,normalizing , reshaping\n",
        "cv2_imshow(input_image)\n",
        "grayscale = cv2.resize(grayscale,(28,28))\n",
        "input_image_resize = cv2.resize(grayscale,(28,28))\n",
        "input_image_resize = input_image_resize/255\n",
        "image_reshaped = np.reshape(input_image_resize,[1,28,28])\n",
        "input_prediction = model.predict(image_reshaped)\n",
        "input_pred_label = np.argmax(input_prediction)\n",
        "print('The Handwrittenn digit is recognized as ',input_pred_label)"
      ],
      "metadata": {
        "id": "nWntJ4wa-1rN"
      },
      "execution_count": 44,
      "outputs": []
    }
  ]
}